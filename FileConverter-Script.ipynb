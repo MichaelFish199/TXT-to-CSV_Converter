{
 "cells": [
  {
   "cell_type": "markdown",
   "id": "a38b4bfd",
   "metadata": {},
   "source": [
    "# Before Executing:\n",
    "\n",
    "## Put \"file.txt\" in the same directory as this notebook"
   ]
  },
  {
   "cell_type": "code",
   "execution_count": 202,
   "id": "96e3134f",
   "metadata": {},
   "outputs": [],
   "source": [
    "import re\n",
    "import pandas as pd"
   ]
  },
  {
   "cell_type": "code",
   "execution_count": 203,
   "id": "49291cd6",
   "metadata": {},
   "outputs": [],
   "source": [
    "# Reading file\n",
    "with open(\"file.txt\") as f:\n",
    "    text = f.readlines()[0]\n",
    "    \n",
    "text"
   ]
  },
  {
   "cell_type": "code",
   "execution_count": 205,
   "id": "cb1e27ea",
   "metadata": {},
   "outputs": [],
   "source": [
    "# Searching for characters in format xi, yi\n",
    "char_pattern = re.compile(r'\\Di')\n",
    "char_matches = list(re.finditer(char_pattern, text))\n",
    "\n",
    "# Searching for numbers in format 111111.1\n",
    "num_pattern = re.compile(r'\\d{1,6}[,.]\\d')\n",
    "num_matches = list(re.finditer(pattern, text))"
   ]
  },
  {
   "cell_type": "code",
   "execution_count": 206,
   "id": "334eee70",
   "metadata": {},
   "outputs": [
    {
     "data": {
      "text/plain": [
       "{'xi': [2.2, 2.8, 3.2, 4.2, 6.5, 8.2, 9.1, 10.4, 11.3, 12.5, 13.3, 14.5, 16.2],\n",
       " 'yi': [3.9,\n",
       "  5.2,\n",
       "  11.7,\n",
       "  15.8,\n",
       "  41.2,\n",
       "  70.1,\n",
       "  80.9,\n",
       "  103.2,\n",
       "  116.7,\n",
       "  128.0,\n",
       "  179.6,\n",
       "  202.2,\n",
       "  226.0]}"
      ]
     },
     "execution_count": 206,
     "metadata": {},
     "output_type": "execute_result"
    }
   ],
   "source": [
    "# Creating dictionary \n",
    "data = {}\n",
    "j = 0\n",
    "\n",
    "for char in char_matches:\n",
    "    lst = []\n",
    "    \n",
    "    for _ in range(int(len(num_matches) / len(char_matches))):\n",
    "        lst.append(float(num_matches[j].group()))\n",
    "        j += 1\n",
    "        \n",
    "    data[char.group()] = lst\n",
    "    \n",
    "data"
   ]
  },
  {
   "cell_type": "code",
   "execution_count": 208,
   "id": "8286bb7b",
   "metadata": {},
   "outputs": [
    {
     "data": {
      "text/html": [
       "<div>\n",
       "<style scoped>\n",
       "    .dataframe tbody tr th:only-of-type {\n",
       "        vertical-align: middle;\n",
       "    }\n",
       "\n",
       "    .dataframe tbody tr th {\n",
       "        vertical-align: top;\n",
       "    }\n",
       "\n",
       "    .dataframe thead th {\n",
       "        text-align: right;\n",
       "    }\n",
       "</style>\n",
       "<table border=\"1\" class=\"dataframe\">\n",
       "  <thead>\n",
       "    <tr style=\"text-align: right;\">\n",
       "      <th></th>\n",
       "      <th>xi</th>\n",
       "      <th>yi</th>\n",
       "    </tr>\n",
       "  </thead>\n",
       "  <tbody>\n",
       "    <tr>\n",
       "      <th>0</th>\n",
       "      <td>2.2</td>\n",
       "      <td>3.9</td>\n",
       "    </tr>\n",
       "    <tr>\n",
       "      <th>1</th>\n",
       "      <td>2.8</td>\n",
       "      <td>5.2</td>\n",
       "    </tr>\n",
       "    <tr>\n",
       "      <th>2</th>\n",
       "      <td>3.2</td>\n",
       "      <td>11.7</td>\n",
       "    </tr>\n",
       "    <tr>\n",
       "      <th>3</th>\n",
       "      <td>4.2</td>\n",
       "      <td>15.8</td>\n",
       "    </tr>\n",
       "    <tr>\n",
       "      <th>4</th>\n",
       "      <td>6.5</td>\n",
       "      <td>41.2</td>\n",
       "    </tr>\n",
       "    <tr>\n",
       "      <th>5</th>\n",
       "      <td>8.2</td>\n",
       "      <td>70.1</td>\n",
       "    </tr>\n",
       "    <tr>\n",
       "      <th>6</th>\n",
       "      <td>9.1</td>\n",
       "      <td>80.9</td>\n",
       "    </tr>\n",
       "    <tr>\n",
       "      <th>7</th>\n",
       "      <td>10.4</td>\n",
       "      <td>103.2</td>\n",
       "    </tr>\n",
       "    <tr>\n",
       "      <th>8</th>\n",
       "      <td>11.3</td>\n",
       "      <td>116.7</td>\n",
       "    </tr>\n",
       "    <tr>\n",
       "      <th>9</th>\n",
       "      <td>12.5</td>\n",
       "      <td>128.0</td>\n",
       "    </tr>\n",
       "    <tr>\n",
       "      <th>10</th>\n",
       "      <td>13.3</td>\n",
       "      <td>179.6</td>\n",
       "    </tr>\n",
       "    <tr>\n",
       "      <th>11</th>\n",
       "      <td>14.5</td>\n",
       "      <td>202.2</td>\n",
       "    </tr>\n",
       "    <tr>\n",
       "      <th>12</th>\n",
       "      <td>16.2</td>\n",
       "      <td>226.0</td>\n",
       "    </tr>\n",
       "  </tbody>\n",
       "</table>\n",
       "</div>"
      ],
      "text/plain": [
       "      xi     yi\n",
       "0    2.2    3.9\n",
       "1    2.8    5.2\n",
       "2    3.2   11.7\n",
       "3    4.2   15.8\n",
       "4    6.5   41.2\n",
       "5    8.2   70.1\n",
       "6    9.1   80.9\n",
       "7   10.4  103.2\n",
       "8   11.3  116.7\n",
       "9   12.5  128.0\n",
       "10  13.3  179.6\n",
       "11  14.5  202.2\n",
       "12  16.2  226.0"
      ]
     },
     "execution_count": 208,
     "metadata": {},
     "output_type": "execute_result"
    }
   ],
   "source": [
    "# Converting to dataframe\n",
    "df = pd.DataFrame(data)\n",
    "df"
   ]
  },
  {
   "cell_type": "code",
   "execution_count": null,
   "id": "e83f54b8",
   "metadata": {},
   "outputs": [],
   "source": [
    "# Creates a new csv file in current working directory\n",
    "df.to_csv('data.csv', index=0)"
   ]
  }
 ],
 "metadata": {
  "kernelspec": {
   "display_name": "Python 3 (ipykernel)",
   "language": "python",
   "name": "python3"
  },
  "language_info": {
   "codemirror_mode": {
    "name": "ipython",
    "version": 3
   },
   "file_extension": ".py",
   "mimetype": "text/x-python",
   "name": "python",
   "nbconvert_exporter": "python",
   "pygments_lexer": "ipython3",
   "version": "3.9.12"
  }
 },
 "nbformat": 4,
 "nbformat_minor": 5
}
